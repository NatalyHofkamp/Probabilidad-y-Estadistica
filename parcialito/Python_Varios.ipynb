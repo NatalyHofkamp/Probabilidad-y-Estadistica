{
  "nbformat": 4,
  "nbformat_minor": 0,
  "metadata": {
    "colab": {
      "provenance": []
    },
    "kernelspec": {
      "name": "python3",
      "display_name": "Python 3"
    },
    "language_info": {
      "name": "python"
    }
  },
  "cells": [
    {
      "cell_type": "code",
      "source": [
        "import numpy as np"
      ],
      "metadata": {
        "id": "qwPkeXoq0X5A"
      },
      "execution_count": 1,
      "outputs": []
    },
    {
      "cell_type": "markdown",
      "source": [
        "**Ejercicio**: Se tiene una muestra $x_1, \\dots , x_n$. En base a la distribución empírica de dicha muestra, se genera una nueva muestra de seis elementos $x^*_1,\\dots, x^*_6$. \n",
        "\n",
        "Hacer una función que reciba la muestra original y calcule cuántas muestras diferentes $x^*_1,\\dots, x^*_6$ puede haber, sin importar el orden de los elemenos *(no hace falta usar una fórmula combinatoria)*."
      ],
      "metadata": {
        "id": "wzBlGfDlvWLM"
      }
    },
    {
      "cell_type": "code",
      "source": [
        "def UniqueResamples(sample):\n",
        "    '''\n",
        "    Recibe:\n",
        "       sample, un array con la muestra original [x_1, ..., x_n]\n",
        "    Retorna:\n",
        "       La cantidad de muestras de longitud 6 [x*_1, ..., x*_6] distintas que se pueden obtener, si no nos importa el orden\n",
        "    PARA PENSAR:\n",
        "       Generalizar esta función para que retorne la cantidad de muestras distintas de longitud n (tomar n como parámetro)\n",
        "    '''\n",
        "    numbers      = np.array(np.unique(sample, axis=0))                                              # Solo queremos los números distintos (opcional)\n",
        "    permutations = np.array(np.meshgrid(sample,sample,sample,sample,sample,sample)).T.reshape(-1,6) # Esto da todas las posibles permutaciones\n",
        "    n, _         = np.shape(permutations)                                                                 \n",
        "\n",
        "    for i in range(n):\n",
        "        permutations[i,:] = np.sort(permutations[i,:])  # Ordenamos cada permutación, así todas las que son anagramas entre sí pasan a verse igual\n",
        "\n",
        "    return(len(np.unique(permutations, axis=0)))        # Contamos cuántas distintas quedan "
      ],
      "metadata": {
        "id": "FQ-jeHYqNHJx"
      },
      "execution_count": 2,
      "outputs": []
    },
    {
      "cell_type": "code",
      "source": [
        "muestra = np.array([2,1,1,4,6,3])    # Esta es la muestra del ejercicio 7 de la guía 10\n",
        "UniqueResamples(muestra)   "
      ],
      "metadata": {
        "id": "9VoagY5ENZTR"
      },
      "execution_count": null,
      "outputs": []
    },
    {
      "cell_type": "markdown",
      "source": [
        "**Ejercicio**: Hacer una fución que reciba la probabilidad puntual conjunta de dos variables discretas $X$ e $Y$, una función $g:\\mathbb{R}^2\\to \\mathbb{R}$ y calcule $\\mathbb{E}(g(X,Y))$. Recordar que \n",
        "$$\\mathbb{E}(g(X,Y))= \\sum_{x\\in Im(X)}\\sum_{y\\in Im(Y)}g(x,y)\\mathbb{P}(X=x, Y=y).$$"
      ],
      "metadata": {
        "id": "McR0bBjDttU8"
      }
    },
    {
      "cell_type": "code",
      "source": [
        "def EVg(jpmf, g):\n",
        "    '''\n",
        "    Recibe:\n",
        "       jpmf, un diccionario con la función de probabilidad puntual conjunta (joint probability mass function)\n",
        "       jpmf[(a,b)] = P(X = a, Y = b) \n",
        "       g, una función de dos variables\n",
        "    Retorna:\n",
        "       La esperanza de G(X,Y) \n",
        "    PARA PENSAR:\n",
        "       Generalizar esta función para que funcione con una cantidad aribitraria de variables (sin agregar parámetros)\n",
        "    PARA MEDITAR:\n",
        "       Qué deberíamos hacer si las variables fueran continuas?\n",
        "    '''\n",
        "    e = 0\n",
        "    for (a,b) in jpmf:                 # Recorremos las claves del diccionario (osea, los valores en la imagen conjunta)\n",
        "        e = e + (g(a,b)) * jpmf[(a,b)] \n",
        "    return e"
      ],
      "metadata": {
        "id": "QvZKiuciP0Nw"
      },
      "execution_count": 4,
      "outputs": []
    },
    {
      "cell_type": "code",
      "source": [
        "conjunta = {(0,1): 2/27, (0,2): 1/3,  (0,4): 1/27,\n",
        "            (1,1): 1/27, (1,2): 1/3,  (1,4): 2/27,\n",
        "            (2,1): 1/72, (2,2): 1/12, (2,4): 1/72} # Esta es la conjunta del ejercico de la clase de problemas del viernes 12 de Mayo\n",
        "\n",
        "def g(x,y):\n",
        "    return x**2*y\n",
        "\n",
        "EVg(conjunta, g)                                   # Chequeamos que efectivamente da 35/18"
      ],
      "metadata": {
        "id": "Fw2B0edwJGtK"
      },
      "execution_count": null,
      "outputs": []
    },
    {
      "cell_type": "markdown",
      "source": [
        "**Ejercicio BONUS**: Usar la función del ejercicio anterior para calcular: \n",
        "*   Acumulada de $X+Y$\n",
        "*   Varianza de $X$\n",
        "\n"
      ],
      "metadata": {
        "id": "HPC2Y6txsUqb"
      }
    },
    {
      "cell_type": "code",
      "source": [
        "# Ahora les toca a ustedes resolver este"
      ],
      "metadata": {
        "id": "sIAa7E2jtxGM"
      },
      "execution_count": null,
      "outputs": []
    },
    {
      "cell_type": "markdown",
      "source": [
        "**Ejercicio**: Para cada $N\\in \\{30,45,\\ldots, 210\\}$ generar $N$ realizaciones de variables aleatorias independientes con distribución de Normal de parámetros $\\mu = 5$, $\\sigma^2=16$. \n",
        "\n",
        "Para cada valor de $N$ considerar los datos generados y calcular un intervalo de confianza del $95\\%$ para $\\mu$ asumuendo $\\sigma$ conocida. Indicar cuáles de los intervalos contienen a $\\mu$.\n",
        "\n",
        "Recordar que el intervalo de confianza a nivel $95\\%$ es:\n",
        "$$\\left(-z_{0.025}\\frac{\\sigma}{\\sqrt{N}}+\\bar{X},\\, z_{0.025}\\frac{\\sigma}{\\sqrt{N}}+\\bar{X}\\right).$$"
      ],
      "metadata": {
        "id": "ixobthqUxFPv"
      }
    },
    {
      "cell_type": "code",
      "source": [
        "from matplotlib import pyplot as plt\n",
        "import scipy.stats as sps"
      ],
      "metadata": {
        "id": "wBTHhHfkzIvA"
      },
      "execution_count": 6,
      "outputs": []
    },
    {
      "cell_type": "code",
      "source": [
        "# Definimos variables\n",
        "mu    = 5                        # Mu\n",
        "sigma = 4                        # Sigma\n",
        "a     = 0.05                     # Alpha\n",
        "N     = np.arange(30, 211, 15)   # Valores posibles de N\n",
        "sup   = np.zeros(len(N))         # Acá vamos a guardar el extemo superior del intervalo para cada N\n",
        "inf   = np.zeros(len(N))         # Acá vamos a guardar el extemo inferior del intervalo para cada N\n",
        "\n",
        "# Para encontrar los percentiles sin usar la tabla (opcional)\n",
        "norm = sps.norm(loc=0, scale=1) "
      ],
      "metadata": {
        "id": "bQXAqaIty_MQ"
      },
      "execution_count": 7,
      "outputs": []
    },
    {
      "cell_type": "code",
      "source": [
        "# Simulaciones\n",
        "for i in range(len(N)):\n",
        "    sample = np.random.normal(loc=mu, scale=sigma, size=N[i])\n",
        "    m      = np.mean(sample)         # Media\n",
        "    s      = np.std(sample, ddof=1)  # Desvio estándar (ATENCIÓN: asegurarse que el denominador sea n - 1)\n",
        "    sup[i] = norm.ppf(1-a/2) * s / np.sqrt(N[i]) + m\n",
        "    inf[i] = norm.ppf(a/2) * s / np.sqrt(N[i]) + m   "
      ],
      "metadata": {
        "id": "k-E1wIfVyTuq"
      },
      "execution_count": 8,
      "outputs": []
    },
    {
      "cell_type": "code",
      "source": [
        "# Intervalos en función de N\n",
        "plt.title(r'Intervalos de confianza para $\\mu$', fontsize = 20)\n",
        "plt.ylabel(r'$(a,b)$', fontsize = 15)\n",
        "plt.xlabel(r'$N$',fontsize = 15)\n",
        "plt.axhline(y=mu, color='grey')         # Graficamos el valor de mu como referencia\n",
        "\n",
        "for i in range(len(N)):\n",
        "    plt.plot((N[i], N[i]), (inf[i], sup[i]), 'g-' if (mu >= inf[i] and mu <= sup[i]) else 'r-') \n",
        "    # El intervalo lo pintamos verde si contiene a mu, rojo en caso contrario\n",
        "\n",
        "plt.show()"
      ],
      "metadata": {
        "id": "MA3S26AazDZv"
      },
      "execution_count": null,
      "outputs": []
    },
    {
      "cell_type": "markdown",
      "source": [
        "**Ejercicio**: Sean $X_1, \\dots, X_6$ variables aleatorias i.i.d con distribución $\\mathcal{E}(5)$. Generar $10000$ realizaciondes independientes de la variable aleatoria $Y$, donde $Y=X_1+\\cdots+X_6$. \n",
        "\n",
        "Realizar un histograma de frecuencias relativas con ancho de banda $0.1$ de las primeras $200$ realizaciones. \n",
        "\n",
        "Comparar el histograma de probabilidad con ancho de banda $0.05$ con la función de densidad de una variable con distribución $\\Gamma(6,5)$.\n",
        "\n",
        "Recordar que si $X\\sim\\Gamma(\\alpha,\\lambda)$ su función de densidad viene dada por\n",
        "$$f(x)= \\frac{\\lambda^\\alpha}{\\Gamma(\\alpha)}x^{\\alpha-1}e^{-\\lambda x}.$$"
      ],
      "metadata": {
        "id": "F-LH9WAu2NCI"
      }
    },
    {
      "cell_type": "code",
      "source": [
        "from scipy.special import gamma"
      ],
      "metadata": {
        "id": "SaZd3Geu5U9P"
      },
      "execution_count": 10,
      "outputs": []
    },
    {
      "cell_type": "code",
      "source": [
        "# Densidad de una Gamma\n",
        "def pdfGamma(a, l, x):\n",
        "    return (l ** a) * (x ** (a - 1)) * np.exp(-l * x) / gamma(a) # Dedicí implementarlo, pero podría llamar a scipy.stats.gamma.pdf(x, a, scale=1/l) "
      ],
      "metadata": {
        "id": "cK2lZ0vF_1vU"
      },
      "execution_count": 11,
      "outputs": []
    },
    {
      "cell_type": "code",
      "source": [
        "N     = 10000 # Cantidad de realizaciones\n",
        "alpha = 6     # Alpha\n",
        "lam   = 5     # Lambda\n",
        "\n",
        "sample = np.sum(np.random.exponential(scale=1/lam, size=(alpha,N)), axis=0) # (ATENCION: no toma lambda de parámetro, sino la esperanza)"
      ],
      "metadata": {
        "id": "YWFuOOjQ6Kud"
      },
      "execution_count": 12,
      "outputs": []
    },
    {
      "cell_type": "code",
      "source": [
        "# Histograma de frecuencias relativas\n",
        "bw           = 0.1             # Ancho de banda\n",
        "small_sample = sample[0:200]   # Nos quedamos con primeras 200 realicaciones \n",
        "\n",
        "plt.xlabel(r'$Y$', fontsize = 15)\n",
        "plt.ylabel(r'Frecuencia relativa', fontsize = 15)\n",
        "plt.hist(small_sample, bins=np.arange(min(small_sample), max(small_sample) + bw, bw), weights=np.zeros(len(small_sample)) + 1. / len(small_sample))  \n",
        "# Doy el peso de cada elemento para asegurarme que el histograma sea de frecuencia relativa (atención: no se hace por default)\n",
        "\n",
        "plt.show()"
      ],
      "metadata": {
        "id": "PqSGkG178mk2"
      },
      "execution_count": null,
      "outputs": []
    },
    {
      "cell_type": "code",
      "source": [
        "# Histograma de probabilidad\n",
        "bw = 0.05                                                                                     # Ancho de banda\n",
        "t  = np.linspace(min(sample), max(sample) + bw, int((max(sample) + bw - min(sample)) / 0.01)) # Discretizamos la recta para graficar la densidad\n",
        "\n",
        "plt.plot(t, pdfGamma(alpha, lam, t), color='red', label='Densidad poblacional')   \n",
        "plt.hist(sample, bins=np.arange(min(sample), max(sample) + bw, bw), density=True, label='Densidad empírica')  \n",
        "\n",
        "plt.legend()\n",
        "plt.show()"
      ],
      "metadata": {
        "id": "Uxi1Ec7Q-Pak",
        "colab": {
          "base_uri": "https://localhost:8080/",
          "height": 430
        },
        "outputId": "f9221d3b-ba62-4c7f-e3b0-7a510b6e30ff"
      },
      "execution_count": 16,
      "outputs": [
        {
          "output_type": "display_data",
          "data": {
            "text/plain": [
              "<Figure size 640x480 with 1 Axes>"
            ],
            "image/png": "[encoded data removed]"
          },
          "metadata": {}
        }
      ]
    }
  ]
}